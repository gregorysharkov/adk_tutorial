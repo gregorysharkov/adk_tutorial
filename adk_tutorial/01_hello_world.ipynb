{
 "cells": [
  {
   "cell_type": "code",
   "execution_count": 6,
   "metadata": {},
   "outputs": [
    {
     "data": {
      "text/plain": [
       "True"
      ]
     },
     "execution_count": 6,
     "metadata": {},
     "output_type": "execute_result"
    }
   ],
   "source": [
    "import logging\n",
    "import warnings\n",
    "\n",
    "from dotenv import load_dotenv\n",
    "\n",
    "from google.adk.agents import Agent\n",
    "from google.adk.sessions import InMemorySessionService\n",
    "from google.adk.runners import Runner\n",
    "\n",
    "warnings.filterwarnings(\"ignore\")\n",
    "logging.basicConfig(level=logging.ERROR)\n",
    "load_dotenv()"
   ]
  },
  {
   "cell_type": "code",
   "execution_count": 7,
   "metadata": {},
   "outputs": [],
   "source": [
    "CHOSEN_MODEL = \"gemini-1.5-flash\""
   ]
  },
  {
   "cell_type": "markdown",
   "metadata": {},
   "source": [
    "# Check configuration"
   ]
  },
  {
   "cell_type": "code",
   "execution_count": 3,
   "metadata": {},
   "outputs": [
    {
     "name": "stdout",
     "output_type": "stream",
     "text": [
      "🚀 Configuring environment for Google ADK...\n",
      "✅ API Key configured successfully: AIzaSyCCkI...\n",
      "✅ Vertex AI disabled. Using Google API Key for all operations.\n",
      "--------------------------------------------------\n"
     ]
    }
   ],
   "source": [
    "# Cell 1: Setup and Configuration\n",
    "import os\n",
    "import google.generativeai as genai\n",
    "from dotenv import load_dotenv\n",
    "\n",
    "# --- Environment Setup ---\n",
    "print(\"🚀 Configuring environment for Google ADK...\")\n",
    "\n",
    "# Load environment variables from .env file\n",
    "load_dotenv()\n",
    "\n",
    "# Set environment variables to force API key usage and disable Vertex AI\n",
    "os.environ[\"GOOGLE_GENAI_USE_VERTEXAI\"] = \"False\"\n",
    "os.environ[\"LITELLM_USE_VERTEXAI\"] = \"False\"\n",
    "\n",
    "# Ensure GOOGLE_APPLICATION_CREDENTIALS is not set\n",
    "if \"GOOGLE_APPLICATION_CREDENTIALS\" in os.environ:\n",
    "    del os.environ[\"GOOGLE_APPLICATION_CREDENTIALS\"]\n",
    "\n",
    "# --- API Key Configuration ---\n",
    "api_key = os.getenv(\"GOOGLE_API_KEY\")\n",
    "if not api_key:\n",
    "    raise ValueError(\n",
    "        \"❌ GOOGLE_API_KEY not found in environment. Please set it in your .env file.\"\n",
    "    )\n",
    "\n",
    "# Configure the google-generativeai library directly (good practice)\n",
    "genai.configure(api_key=api_key)\n",
    "\n",
    "print(f\"✅ API Key configured successfully: {api_key[:10]}...\")\n",
    "print(\"✅ Vertex AI disabled. Using Google API Key for all operations.\")\n",
    "print(\"-\" * 50)\n"
   ]
  },
  {
   "cell_type": "code",
   "execution_count": 4,
   "metadata": {},
   "outputs": [
    {
     "name": "stdout",
     "output_type": "stream",
     "text": [
      "🤖 Creating the ADK Agent...\n",
      "✅ Agent will be created with name: 'my_first_agent'\n",
      "✅ Agent will use model: 'gemini/gemini-1.5-flash'\n",
      "✅ Agent created successfully!\n",
      "--------------------------------------------------\n"
     ]
    }
   ],
   "source": [
    "# Cell 2 (Corrected): Create the Agent with 'name' and 'model' parameters\n",
    "from google import adk\n",
    "from google.adk import agents\n",
    "\n",
    "print(\"🤖 Creating the ADK Agent...\")\n",
    "\n",
    "# --- 1. Define the Agent's configuration ---\n",
    "agent_name = \"my_first_agent\"\n",
    "# The parameter is `model`, not `llm`. We pass the string that works with the API Key.\n",
    "model_to_use = \"gemini/gemini-1.5-flash\"\n",
    "\n",
    "print(f\"✅ Agent will be created with name: '{agent_name}'\")\n",
    "print(f\"✅ Agent will use model: '{model_to_use}'\")\n",
    "\n",
    "# --- 2. Create the Agent ---\n",
    "# Pass `name` and `model` as keyword arguments.\n",
    "my_agent = agents.Agent(name=agent_name, model=model_to_use)\n",
    "\n",
    "print(\"✅ Agent created successfully!\")\n",
    "print(\"-\" * 50)\n"
   ]
  },
  {
   "cell_type": "markdown",
   "metadata": {},
   "source": [
    "# The Hello World Agent"
   ]
  },
  {
   "cell_type": "code",
   "execution_count": 26,
   "metadata": {},
   "outputs": [],
   "source": [
    "hello_world_agent = Agent(\n",
    "    name=\"hellow_world_agent\",\n",
    "    description=\"A simple agent that says hello world\",\n",
    "    model=CHOSEN_MODEL,\n",
    "    instruction=\"You are a helpful assistant that says hello world\",\n",
    ")\n"
   ]
  },
  {
   "cell_type": "code",
   "execution_count": 27,
   "metadata": {},
   "outputs": [],
   "source": [
    "session_service = InMemorySessionService()\n",
    "USER_ID = \"user_123\"\n",
    "SESSION_ID = \"session_123\"\n",
    "\n",
    "session = await session_service.create_session(\n",
    "    app_name=\"hellow_world_app\",\n",
    "    user_id=USER_ID,\n",
    "    session_id=SESSION_ID,\n",
    ")\n",
    "\n",
    "runner = Runner(\n",
    "    app_name=\"hellow_world_app\",\n",
    "    session_service=session_service,\n",
    "    agent=hello_world_agent,\n",
    ")"
   ]
  },
  {
   "cell_type": "code",
   "execution_count": 28,
   "metadata": {},
   "outputs": [
    {
     "name": "stdout",
     "output_type": "stream",
     "text": [
      "Hello world\n",
      "\n",
      "<<< Agent response: Hello world\n",
      "\n"
     ]
    }
   ],
   "source": [
    "from adk_tutorial.multi_tool_agent.agent_call_utils import call_agent_async\n",
    "\n",
    "await call_agent_async(\"Hello\", runner=runner, user_id=USER_ID, session_id=SESSION_ID)"
   ]
  },
  {
   "cell_type": "code",
   "execution_count": null,
   "metadata": {},
   "outputs": [],
   "source": []
  }
 ],
 "metadata": {
  "kernelspec": {
   "display_name": "adk-tutorial-Q3NXe_zW-py3.13",
   "language": "python",
   "name": "python3"
  },
  "language_info": {
   "codemirror_mode": {
    "name": "ipython",
    "version": 3
   },
   "file_extension": ".py",
   "mimetype": "text/x-python",
   "name": "python",
   "nbconvert_exporter": "python",
   "pygments_lexer": "ipython3",
   "version": "3.13.0"
  }
 },
 "nbformat": 4,
 "nbformat_minor": 2
}
